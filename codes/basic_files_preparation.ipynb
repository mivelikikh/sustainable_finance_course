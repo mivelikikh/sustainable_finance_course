{
 "cells": [
  {
   "cell_type": "markdown",
   "id": "1aa5c146",
   "metadata": {},
   "source": [
    "### Imports"
   ]
  },
  {
   "cell_type": "code",
   "execution_count": 1,
   "id": "83f1e254",
   "metadata": {},
   "outputs": [],
   "source": [
    "import pandas as pd"
   ]
  },
  {
   "cell_type": "markdown",
   "id": "d4715e3a",
   "metadata": {},
   "source": [
    "### Data Preparation <a class=\"anchor\" id=\"data_preparation\"></a>"
   ]
  },
  {
   "cell_type": "code",
   "execution_count": 2,
   "id": "b52d8c12",
   "metadata": {},
   "outputs": [],
   "source": [
    "returns_path = 'https://raw.githubusercontent.com/mivelikikh/sustainable_finance_course/main/initial_data/monthly_returns.csv'\n",
    "returns = pd.read_csv(returns_path)\n",
    "\n",
    "env_scores_path = 'https://raw.githubusercontent.com/mivelikikh/sustainable_finance_course/main/initial_data/env_score.csv'\n",
    "env_scores = pd.read_csv(env_scores_path)\n",
    "\n",
    "market_cap_path = 'https://raw.githubusercontent.com/mivelikikh/sustainable_finance_course/main/initial_data/size.csv'\n",
    "market_cap = pd.read_csv(market_cap_path)\n",
    "\n",
    "eu_risk_free_path = 'https://raw.githubusercontent.com/mivelikikh/sustainable_finance_course/main/initial_data/eu_riskfree.csv'\n",
    "eu_risk_free_rate = pd.read_csv(eu_risk_free_path)"
   ]
  },
  {
   "cell_type": "code",
   "execution_count": 3,
   "id": "bd6ffcbb",
   "metadata": {},
   "outputs": [],
   "source": [
    "returns = returns.rename(columns={'Unnamed: 0': 'date'})\n",
    "env_scores = env_scores.rename(columns={'Unnamed: 0': 'date'})\n",
    "market_cap = market_cap.rename(columns={'Unnamed: 0': 'date'})"
   ]
  },
  {
   "cell_type": "code",
   "execution_count": 4,
   "id": "a424af8a",
   "metadata": {},
   "outputs": [],
   "source": [
    "eu_states_ISIN = {\n",
    "    'Austria': 'AT',\n",
    "    'Belgium': 'BE',\n",
    "    'Bulgaria': 'BG',\n",
    "    'Croatia': 'HR',\n",
    "    'Cyprus': 'CY',\n",
    "    'Czech Republic': 'CZ',\n",
    "    'Denmark': 'DK',\n",
    "    'Estonia': 'EE',\n",
    "    'Finland': 'FI',\n",
    "    'France': 'FR',\n",
    "    'Germany': 'DE',\n",
    "    'Greece': 'GR',\n",
    "    'Hungary': 'HU',\n",
    "    'Ireland': 'IE',\n",
    "    'Italy': 'IT',\n",
    "    'Latvia': 'LV',\n",
    "    'Lithuania': 'LT',\n",
    "    'Luxembourg': 'LU',\n",
    "    'Malta': 'MT',\n",
    "    'Netherlands': 'NL',\n",
    "    'Poland': 'PL',\n",
    "    'Portugal': 'PT',\n",
    "    'Romania': 'RO',\n",
    "    'Slovakia': 'SK',\n",
    "    'Slovenia': 'SI',\n",
    "    'Spain': 'ES',\n",
    "    'Sweden': 'SE'}"
   ]
  },
  {
   "cell_type": "code",
   "execution_count": 5,
   "id": "493473c0",
   "metadata": {},
   "outputs": [],
   "source": [
    "def make_eu_subset(dataframe):\n",
    "    isin_cols = []\n",
    "\n",
    "    for value in eu_states_ISIN.values():\n",
    "        for col in dataframe.columns:\n",
    "            if col[:2] == value:\n",
    "                isin_cols.append(col)\n",
    "    return dataframe[isin_cols]\n",
    "    \n",
    "eu_returns = make_eu_subset(returns)\n",
    "eu_env_scores = make_eu_subset(env_scores)\n",
    "eu_market_cap = make_eu_subset(market_cap)"
   ]
  },
  {
   "cell_type": "code",
   "execution_count": 6,
   "id": "085116be",
   "metadata": {},
   "outputs": [],
   "source": [
    "eu_returns = pd.concat([returns['date'], eu_returns], axis=1)\n",
    "eu_env_scores = pd.concat([env_scores['date'], eu_env_scores], axis=1)\n",
    "eu_market_cap = pd.concat([market_cap['date'], eu_market_cap], axis=1)"
   ]
  },
  {
   "cell_type": "code",
   "execution_count": 7,
   "id": "792fda6b",
   "metadata": {},
   "outputs": [],
   "source": [
    "eu_returns['date'] = pd.to_datetime(returns['date'])\n",
    "eu_env_scores['date'] = pd.to_datetime(env_scores['date'])\n",
    "eu_market_cap['date'] = pd.to_datetime(market_cap['date'])\n",
    "eu_risk_free_rate['date'] = pd.to_datetime(eu_risk_free_rate['date'])"
   ]
  },
  {
   "cell_type": "code",
   "execution_count": 8,
   "id": "388ee759",
   "metadata": {},
   "outputs": [],
   "source": [
    "filter_date = pd.to_datetime('2007-01-01')\n",
    "\n",
    "eu_returns = eu_returns[eu_returns['date'] >= filter_date]\n",
    "eu_env_scores = eu_env_scores[eu_env_scores['date'] >= filter_date]\n",
    "eu_market_cap = eu_market_cap[eu_market_cap['date'] >= filter_date]\n",
    "eu_risk_free_rate = eu_risk_free_rate[eu_risk_free_rate['date'] >= filter_date]"
   ]
  },
  {
   "cell_type": "code",
   "execution_count": 9,
   "id": "7e7fe518",
   "metadata": {},
   "outputs": [],
   "source": [
    "eu_returns = eu_returns.reset_index(drop=True)\n",
    "eu_env_scores = eu_env_scores.reset_index(drop=True)\n",
    "eu_market_cap = eu_market_cap.reset_index(drop=True)\n",
    "eu_risk_free_rate = eu_risk_free_rate.reset_index(drop=True)"
   ]
  },
  {
   "cell_type": "code",
   "execution_count": 10,
   "id": "7acc17d1",
   "metadata": {},
   "outputs": [],
   "source": [
    "# eu_returns.to_csv('/Users/mivelikikh/projects/semester_2/sust_finance/data_csv/modified_data/eu_returns.csv', index=False)\n",
    "# eu_env_scores.to_csv('/Users/mivelikikh/projects/semester_2/sust_finance/data_csv/modified_data/eu_env_scores.csv', index=False)\n",
    "# eu_market_cap.to_csv('/Users/mivelikikh/projects/semester_2/sust_finance/data_csv/modified_data/eu_market_cap.csv', index=False)\n",
    "# eu_risk_free_rate.to_csv('/Users/mivelikikh/projects/semester_2/sust_finance/data_csv/modified_data/eu_risk_free_rate.csv', index=False)"
   ]
  }
 ],
 "metadata": {
  "kernelspec": {
   "display_name": "Python 3 (ipykernel)",
   "language": "python",
   "name": "python3"
  },
  "language_info": {
   "codemirror_mode": {
    "name": "ipython",
    "version": 3
   },
   "file_extension": ".py",
   "mimetype": "text/x-python",
   "name": "python",
   "nbconvert_exporter": "python",
   "pygments_lexer": "ipython3",
   "version": "3.9.12"
  }
 },
 "nbformat": 4,
 "nbformat_minor": 5
}
